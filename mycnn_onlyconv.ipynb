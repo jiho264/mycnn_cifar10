{
 "cells": [
  {
   "attachments": {},
   "cell_type": "markdown",
   "metadata": {},
   "source": [
    "# My CNN "
   ]
  },
  {
   "attachments": {},
   "cell_type": "markdown",
   "metadata": {},
   "source": [
    "## Dataset loading"
   ]
  },
  {
   "cell_type": "code",
   "execution_count": null,
   "metadata": {},
   "outputs": [],
   "source": [
    "import tensorflow as tf\n",
    "import tqdm\n",
    "import cv2\n",
    "import numpy as np\n",
    "import matplotlib.pyplot as plt\n",
    "print(\"Num GPUs Available: \", len(tf.config.experimental.list_physical_devices('GPU')))"
   ]
  },
  {
   "attachments": {},
   "cell_type": "markdown",
   "metadata": {},
   "source": [
    "## Download test"
   ]
  },
  {
   "cell_type": "code",
   "execution_count": null,
   "metadata": {},
   "outputs": [],
   "source": [
    "(x_train, y_train), (x_test, y_test) = tf.keras.datasets.cifar10.load_data()\n",
    "assert x_train.shape == (50000, 32, 32, 3)\n",
    "assert x_test.shape == (10000, 32, 32, 3)\n",
    "assert y_train.shape == (50000, 1)\n",
    "assert y_test.shape == (10000, 1)"
   ]
  },
  {
   "cell_type": "code",
   "execution_count": null,
   "metadata": {},
   "outputs": [],
   "source": [
    "print (\"Training data:\")\n",
    "print (\"Number of examples: \", x_train.shape[0])\n",
    "print (\"Number of channels:\",x_train.shape[3]) \n",
    "print (\"Image size:\", x_train.shape[1], x_train.shape[2])\n",
    "print\n",
    "print (\"Test data:\")\n",
    "print (\"Number of examples:\", x_test.shape[0])\n",
    "print (\"Number of channels:\", x_test.shape[3])\n",
    "print (\"Image size:\", x_test.shape[1], x_test.shape[2]) "
   ]
  },
  {
   "cell_type": "code",
   "execution_count": null,
   "metadata": {},
   "outputs": [],
   "source": [
    "plt.subplot(141)\n",
    "plt.imshow(x_train[0][:][:][:], interpolation=\"bicubic\")\n",
    "plt.grid(False)\n",
    "plt.subplot(142)\n",
    "plt.imshow(x_train[4], interpolation=\"bicubic\")\n",
    "plt.grid(False)\n",
    "plt.subplot(143)\n",
    "plt.imshow(x_train[8], interpolation=\"bicubic\")\n",
    "plt.grid(False)\n",
    "plt.subplot(144)\n",
    "plt.imshow(x_train[12], interpolation=\"bicubic\")\n",
    "plt.grid(False)\n",
    "plt.show()"
   ]
  },
  {
   "attachments": {},
   "cell_type": "markdown",
   "metadata": {},
   "source": [
    "## Normalize (traning set 건드린 값으로, test set도 정규화)"
   ]
  },
  {
   "cell_type": "code",
   "execution_count": null,
   "metadata": {},
   "outputs": [],
   "source": [
    "new_x_train = x_train\n",
    "new_x_test = x_test\n",
    "\n",
    "_mean = np.mean(x_train)\n",
    "_std = np.std(x_train)\n",
    "print(_mean, _std)\n",
    "new_x_train = (new_x_train - _mean)/_std\n",
    "new_x_test = (new_x_test - _mean)/_std\n",
    "_mean = np.mean(new_x_train)\n",
    "_std = np.std(new_x_train)\n",
    "print(_mean, _std)\n",
    "plt.subplot(141)\n",
    "plt.imshow(x_train[0], interpolation=\"bicubic\")\n",
    "plt.grid(False)\n",
    "plt.subplot(142)\n",
    "plt.imshow(new_x_train[0][:][:], interpolation=\"bicubic\")\n",
    "plt.grid(False)\n",
    "plt.show()"
   ]
  },
  {
   "attachments": {},
   "cell_type": "markdown",
   "metadata": {},
   "source": [
    "## Traning"
   ]
  },
  {
   "cell_type": "code",
   "execution_count": null,
   "metadata": {},
   "outputs": [],
   "source": [
    "model = tf.keras.models.Sequential([\n",
    "  # 1st\n",
    "  tf.keras.layers.Conv2D(filters=32, kernel_size=3, padding='same', strides=1, activation='relu', input_shape=(32, 32, 3)),\n",
    "  tf.keras.layers.Dropout(0.5),\n",
    "  tf.keras.layers.MaxPool2D(pool_size=2, strides=2),\n",
    "  \n",
    "  tf.keras.layers.Conv2D(filters=64, kernel_size=3, padding='same', strides=1, activation='relu'),\n",
    "  tf.keras.layers.Dropout(0.5),\n",
    "  tf.keras.layers.MaxPool2D(pool_size=2, strides=2),\n",
    "  \n",
    "  tf.keras.layers.Conv2D(filters=128, kernel_size=3, padding='same', strides=1, activation='relu'),\n",
    "  tf.keras.layers.Dropout(0.5),\n",
    "  tf.keras.layers.MaxPool2D(pool_size=2, strides=2),\n",
    "  \n",
    "  tf.keras.layers.Flatten(),\n",
    "  tf.keras.layers.Dense(1024, activation='relu'),  \n",
    "  tf.keras.layers.Dense(10, activation='softmax'),\n",
    "])\n",
    "\n",
    "model.compile(optimizer='adam',\n",
    "              loss='sparse_categorical_crossentropy',\n",
    "              metrics=['accuracy'])\n",
    "model.summary()\n",
    "\n",
    "#tf.keras.utils.plot_model(model, to_file='model02.png', show_shapes=True)"
   ]
  },
  {
   "cell_type": "code",
   "execution_count": null,
   "metadata": {},
   "outputs": [],
   "source": [
    "val_scaled = new_x_test\n",
    "val_target = y_test\n",
    "\n",
    "history = model.fit(new_x_train, y_train, batch_size=256, epochs=15, validation_data=(val_scaled, val_target))\n",
    "model.evaluate(new_x_test, y_test, batch_size=32, verbose=2)"
   ]
  },
  {
   "cell_type": "code",
   "execution_count": null,
   "metadata": {},
   "outputs": [],
   "source": [
    "plt.subplot(221)\n",
    "plt.plot(history.history['loss'])\n",
    "plt.plot(history.history['val_loss'])\n",
    "plt.grid()\n",
    "plt.xticks(np.arange(0, 15, 2))\n",
    "y1 = history.history['loss'][0]+0.3\n",
    "y2 = history.history['loss'][-1]\n",
    "#plt.yticks(np.arange(y1, y2, (y2-y1)/5))\n",
    "plt.xlabel('epochs(times)')\n",
    "plt.ylabel('loss(%)')\n",
    "plt.legend(['train', 'test'])\n",
    "#plt.show()\n",
    "plt.subplot(222)\n",
    "plt.plot(history.history['accuracy'])\n",
    "plt.plot(history.history['val_accuracy'])\n",
    "plt.grid()\n",
    "plt.xticks(np.arange(0, 15, 2))\n",
    "yy1 = history.history['accuracy'][0]\n",
    "yy2 = history.history['accuracy'][-1]+0.2\n",
    "#plt.yticks(np.arange(yy1, yy2, (yy2-yy1)/5))\n",
    "plt.xlabel('epochs(times)')\n",
    "plt.ylabel('accuracy(%)')\n",
    "plt.legend(['train', 'test'])\n",
    "plt.show()\n"
   ]
  }
 ],
 "metadata": {
  "kernelspec": {
   "display_name": "mycnn",
   "language": "python",
   "name": "python3"
  },
  "language_info": {
   "codemirror_mode": {
    "name": "ipython",
    "version": 3
   },
   "file_extension": ".py",
   "mimetype": "text/x-python",
   "name": "python",
   "nbconvert_exporter": "python",
   "pygments_lexer": "ipython3",
   "version": "3.10.8"
  },
  "orig_nbformat": 4,
  "vscode": {
   "interpreter": {
    "hash": "46078e20341903ad5c3686c8ad889303436d540a286061b2abaa850e13921926"
   }
  }
 },
 "nbformat": 4,
 "nbformat_minor": 2
}
