{
 "cells": [
  {
   "attachments": {},
   "cell_type": "markdown",
   "metadata": {},
   "source": [
    "# How to install Tensorflow in Apple M1 Mac"
   ]
  },
  {
   "cell_type": "code",
   "execution_count": null,
   "metadata": {},
   "outputs": [],
   "source": [
    "# https://developer.apple.com/metal/tensorflow-plugin/\n",
    "%wget https://repo.anaconda.com/miniconda/Miniconda3-latest-MacOSX-arm64.sh"
   ]
  },
  {
   "cell_type": "code",
   "execution_count": null,
   "metadata": {},
   "outputs": [],
   "source": [
    "# 1. Set up\n",
    "# arm64 : Apple silicon\n",
    "\n",
    "# 다운받은 file name -> miniconda.sh로 변경하기\n",
    "\n",
    "\n",
    "%bash ~/miniconda.sh -b -p $HOME/miniconda\n",
    "%source ~/miniconda/bin/activate\n",
    "%conda install -c apple tensorflow-deps"
   ]
  },
  {
   "cell_type": "code",
   "execution_count": null,
   "metadata": {},
   "outputs": [],
   "source": [
    "# 2. Install base TensorFlow\n",
    "#%python -m pip install tensorflow-macos"
   ]
  },
  {
   "cell_type": "code",
   "execution_count": null,
   "metadata": {},
   "outputs": [],
   "source": [
    "# 3. Install tensorflow-metal plug-in\n",
    "#%python -m pip install tensorflow-metal"
   ]
  },
  {
   "cell_type": "code",
   "execution_count": null,
   "metadata": {},
   "outputs": [],
   "source": [
    "%python3 -m pip install tensorflow-macos==2.9\n",
    "%python3 -m pip install tensorflow-metal==0.5.0"
   ]
  }
 ],
 "metadata": {
  "kernelspec": {
   "display_name": "mycnn",
   "language": "python",
   "name": "python3"
  },
  "language_info": {
   "name": "python",
   "version": "3.10.8 (main, Nov 24 2022, 08:08:27) [Clang 14.0.6 ]"
  },
  "orig_nbformat": 4,
  "vscode": {
   "interpreter": {
    "hash": "5cdf09fd86f7d29a16f8c6f53617d64af9b16adddc0e981bf5d54de2ae9c66d2"
   }
  }
 },
 "nbformat": 4,
 "nbformat_minor": 2
}
